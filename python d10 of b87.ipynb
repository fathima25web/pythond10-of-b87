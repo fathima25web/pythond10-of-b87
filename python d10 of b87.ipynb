{
 "cells": [
  {
   "cell_type": "code",
   "execution_count": 4,
   "id": "3c42d1f5-d826-4d36-ad6a-b1df166abf76",
   "metadata": {},
   "outputs": [],
   "source": [
    "def describe_pet(animal_type,pet_name):\n",
    "    \"\"\"describe information about the pet\"\"\"\n",
    "    print(f\"\\nI have a{animal_type}\")\n",
    "    print(f\"my{animal_type}'s name is {pet_name}\")"
   ]
  },
  {
   "cell_type": "code",
   "execution_count": 5,
   "id": "2b224b41-d10e-4bb2-bd01-0ced026f9038",
   "metadata": {},
   "outputs": [
    {
     "name": "stdout",
     "output_type": "stream",
     "text": [
      "\n",
      "I have adog\n",
      "mydog's name is bruno\n"
     ]
    }
   ],
   "source": [
    "describe_pet('dog','bruno')"
   ]
  },
  {
   "cell_type": "code",
   "execution_count": 6,
   "id": "4b5d3b89-d3cc-4ed9-ab09-794a47b924e2",
   "metadata": {},
   "outputs": [
    {
     "ename": "TypeError",
     "evalue": "describe_pet() missing 1 required positional argument: 'pet_name'",
     "output_type": "error",
     "traceback": [
      "\u001b[1;31m---------------------------------------------------------------------------\u001b[0m",
      "\u001b[1;31mTypeError\u001b[0m                                 Traceback (most recent call last)",
      "Cell \u001b[1;32mIn[6], line 1\u001b[0m\n\u001b[1;32m----> 1\u001b[0m describe_pet(\u001b[38;5;124m'\u001b[39m\u001b[38;5;124mrex\u001b[39m\u001b[38;5;124m'\u001b[39m)\n",
      "\u001b[1;31mTypeError\u001b[0m: describe_pet() missing 1 required positional argument: 'pet_name'"
     ]
    }
   ],
   "source": [
    "describe_pet('rex')"
   ]
  },
  {
   "cell_type": "code",
   "execution_count": 9,
   "id": "28959725-db0e-446b-bd86-27c0edcd9e67",
   "metadata": {},
   "outputs": [],
   "source": [
    "def describe_pet(pet_name,animal_type='dog'):\n",
    "    \"\"\"describe information about the pet\"\"\"\n",
    "    print(f\"\\nI have a{animal_type}\")\n",
    "    print(f\"my{animal_type}'s name is {pet_name}\")"
   ]
  },
  {
   "cell_type": "code",
   "execution_count": 10,
   "id": "72b75898-aa0e-4c37-a3e9-62a8162c9fa1",
   "metadata": {},
   "outputs": [
    {
     "name": "stdout",
     "output_type": "stream",
     "text": [
      "\n",
      "I have adog\n",
      "mydog's name is rex\n"
     ]
    }
   ],
   "source": [
    "describe_pet('rex')"
   ]
  },
  {
   "cell_type": "code",
   "execution_count": 11,
   "id": "e9e3886d-0c96-4caa-b457-a721376a422f",
   "metadata": {},
   "outputs": [
    {
     "name": "stdout",
     "output_type": "stream",
     "text": [
      "\n",
      "I have acat\n",
      "mycat's name is bruno\n"
     ]
    }
   ],
   "source": [
    "describe_pet('bruno','cat')"
   ]
  },
  {
   "cell_type": "code",
   "execution_count": null,
   "id": "2cde4b25-5405-4bb0-84a6-20c7cd5efd2b",
   "metadata": {},
   "outputs": [],
   "source": [
    "Returning asimple value:"
   ]
  },
  {
   "cell_type": "code",
   "execution_count": null,
   "id": "0d1cc262-69e0-4ea6-9b27-1571b9bb33c1",
   "metadata": {},
   "outputs": [],
   "source": [
    "#req:take a firstna"
   ]
  },
  {
   "cell_type": "code",
   "execution_count": null,
   "id": "bdcd2f06-fd8c-4ecf-93ba-58908903cb84",
   "metadata": {},
   "outputs": [],
   "source": []
  },
  {
   "cell_type": "code",
   "execution_count": null,
   "id": "4091770b-5258-4db7-b7ff-8e028b86baa7",
   "metadata": {},
   "outputs": [],
   "source": []
  },
  {
   "cell_type": "code",
   "execution_count": null,
   "id": "d6b04a00-570f-465e-ac37-896395c4492e",
   "metadata": {},
   "outputs": [],
   "source": []
  },
  {
   "cell_type": "code",
   "execution_count": null,
   "id": "a1957417-5e73-40ba-af9b-6e2808402b82",
   "metadata": {},
   "outputs": [],
   "source": []
  },
  {
   "cell_type": "code",
   "execution_count": null,
   "id": "f1313268-3316-40de-b1b3-e69bb3698cb0",
   "metadata": {},
   "outputs": [],
   "source": []
  },
  {
   "cell_type": "code",
   "execution_count": null,
   "id": "ba951d4b-b408-47b8-aa43-56803970b3d8",
   "metadata": {},
   "outputs": [],
   "source": []
  },
  {
   "cell_type": "code",
   "execution_count": null,
   "id": "c32de53b-4763-424f-83b1-b67ede8bd891",
   "metadata": {},
   "outputs": [],
   "source": []
  },
  {
   "cell_type": "code",
   "execution_count": null,
   "id": "9c2a095a-eee9-4b4f-8e45-e294bdeab076",
   "metadata": {},
   "outputs": [],
   "source": []
  },
  {
   "cell_type": "code",
   "execution_count": null,
   "id": "c9345339-a9ce-4abd-a869-0c26e53d23b7",
   "metadata": {},
   "outputs": [],
   "source": []
  }
 ],
 "metadata": {
  "kernelspec": {
   "display_name": "Python [conda env:base] *",
   "language": "python",
   "name": "conda-base-py"
  },
  "language_info": {
   "codemirror_mode": {
    "name": "ipython",
    "version": 3
   },
   "file_extension": ".py",
   "mimetype": "text/x-python",
   "name": "python",
   "nbconvert_exporter": "python",
   "pygments_lexer": "ipython3",
   "version": "3.13.5"
  }
 },
 "nbformat": 4,
 "nbformat_minor": 5
}
